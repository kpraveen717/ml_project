{
 "cells": [
  {
   "cell_type": "code",
   "execution_count": 104,
   "metadata": {},
   "outputs": [
    {
     "name": "stdout",
     "output_type": "stream",
     "text": [
      "[WindowsPath('data/Wear/Converted 2 Excell Data/A2024_5%/210/A2024_5 (210)%.xls'), WindowsPath('data/Wear/Converted 2 Excell Data/A2024_5%/105/A2024_5(105)%.xls'), WindowsPath('data/Wear/Converted 2 Excell Data/A2024_0%/A2024_0%.xls')]\n"
     ]
    }
   ],
   "source": [
    "import pathlib\n",
    "\n",
    "DATA_DIR = pathlib.Path('data/Wear/Converted 2 Excell Data')\n",
    "\n",
    "REJECT_LIST = [\n",
    "    \"A2024_15%.xls\", \n",
    "    \"A2024_5%.xls\",\n",
    "    \"AA2024_10%.xls\",\n",
    "]\n",
    "\n",
    "def get_files():\n",
    "    files = []\n",
    "    folders = [DATA_DIR]\n",
    "    while folders:\n",
    "        folder = folders.pop()\n",
    "        for path in folder.iterdir():\n",
    "            if path.name == 'Individual' or path.name == 'Inndividual' or path.name == 'INDIVIDUAL':\n",
    "                continue\n",
    "            if path.name in REJECT_LIST:\n",
    "                continue\n",
    "            if path.is_dir():\n",
    "                folders.append(path)\n",
    "            elif path.suffix == '.xls':\n",
    "                files.append(path)\n",
    "    return files\n",
    "\n",
    "print(get_files())"
   ]
  },
  {
   "cell_type": "code",
   "execution_count": 105,
   "metadata": {},
   "outputs": [],
   "source": [
    "files = get_files()\n",
    "\n",
    "import pandas as pd \n",
    "\n",
    "dfs = [] \n",
    "for file in files:\n",
    "    df = pd.read_excel(file, sheet_name=[\"ALL\"])\n",
    "    dfs.append(df)\n",
    "dfs = [df[\"ALL\"] for df in dfs]\n"
   ]
  },
  {
   "cell_type": "code",
   "execution_count": null,
   "metadata": {},
   "outputs": [],
   "source": []
  },
  {
   "cell_type": "code",
   "execution_count": 106,
   "metadata": {},
   "outputs": [
    {
     "name": "stdout",
     "output_type": "stream",
     "text": [
      "data\\Wear\\Converted 2 Excell Data\\A2024_5%\\210\\A2024_5 (210)%.xls\n",
      "data\\Wear\\Converted 2 Excell Data\\A2024_5%\\105\\A2024_5(105)%.xls\n",
      "data\\Wear\\Converted 2 Excell Data\\A2024_0%\\A2024_0%.xls\n"
     ]
    }
   ],
   "source": [
    "for file in get_files():\n",
    "    print(file)"
   ]
  },
  {
   "cell_type": "code",
   "execution_count": null,
   "metadata": {},
   "outputs": [],
   "source": []
  },
  {
   "cell_type": "code",
   "execution_count": 112,
   "metadata": {},
   "outputs": [
    {
     "name": "stdout",
     "output_type": "stream",
     "text": [
      "27\n",
      "data\\Wear\\Converted 2 Excell Data\\A2024_5%\\210\\A2024_5 (210)%.xls\n",
      "data\\Wear\\Converted 2 Excell Data\\A2024_5%\\105\\A2024_5(105)%.xls\n",
      "data\\Wear\\Converted 2 Excell Data\\A2024_0%\\A2024_0%.xls\n"
     ]
    }
   ],
   "source": [
    "# remove the top three columns and rename the head \n",
    "header_mesures = [\"15M_0.5\", \"15M_1\", \"15M_1.5\", \"30M_0.5\", \"30M_1\", \"30M_1.5\", \"45M_0.5\", \"45M_1\", \"45M_1.5\"]\n",
    "header_cols = [\"time\", 'wear', 'friction'] \n",
    "\n",
    "headers = []\n",
    "for col in header_cols:\n",
    "    for mesure in header_mesures:\n",
    "        headers.append(col + \"_\" + mesure)\n",
    "print(len(headers))\n",
    "\n",
    "new_dfs =[]\n",
    "for i, df in enumerate(dfs):\n",
    "    print(files[i])\n",
    "    _df = df.copy()\n",
    "    _df.columns = headers\n",
    "    # remove the first three rows \n",
    "    _df = _df.iloc[3:]\n",
    "    new_dfs.append(_df)"
   ]
  },
  {
   "cell_type": "code",
   "execution_count": null,
   "metadata": {},
   "outputs": [],
   "source": [
    "# plot a graph for time, wear, and cof for each weight \n",
    "import matplotlib.pyplot as plt\n",
    "\n",
    "for i, df in enumerate(new_dfs):\n",
    "    for weight in df['weight'].unique():\n",
    "        sub_df = df[df['weight'] == weight]\n",
    "        plt.plot(sub_df['time'], sub_df['wear'], label=weight)\n",
    "    plt.xlabel('Time')\n",
    "    plt.ylabel('Wear')\n",
    "    plt.title(f'Wear vs Time for {files[i].name}')\n",
    "    plt.legend()\n",
    "    plt.show()\n"
   ]
  },
  {
   "cell_type": "code",
   "execution_count": 118,
   "metadata": {},
   "outputs": [
    {
     "data": {
      "text/plain": [
       "time_15M_0.5        1986\n",
       "time_15M_1          1988\n",
       "time_15M_1.5        1988\n",
       "time_30M_0.5        1987\n",
       "time_30M_1          1988\n",
       "time_30M_1.5        1988\n",
       "time_45M_0.5        2650\n",
       "time_45M_1          2651\n",
       "time_45M_1.5        2651\n",
       "wear_15M_0.5         995\n",
       "wear_15M_1           996\n",
       "wear_15M_1.5         996\n",
       "wear_30M_0.5         995\n",
       "wear_30M_1           996\n",
       "wear_30M_1.5         996\n",
       "wear_45M_0.5         995\n",
       "wear_45M_1           996\n",
       "wear_45M_1.5         996\n",
       "friction_15M_0.5      90\n",
       "friction_15M_1        91\n",
       "friction_15M_1.5      91\n",
       "friction_30M_0.5       2\n",
       "friction_30M_1         3\n",
       "friction_30M_1.5       3\n",
       "friction_45M_0.5       3\n",
       "friction_45M_1         4\n",
       "friction_45M_1.5       4\n",
       "dtype: int64"
      ]
     },
     "execution_count": 118,
     "metadata": {},
     "output_type": "execute_result"
    }
   ],
   "source": [
    "new_dfs[0].isna().sum()"
   ]
  },
  {
   "cell_type": "code",
   "execution_count": 116,
   "metadata": {},
   "outputs": [
    {
     "data": {
      "text/plain": [
       "(2979, 27)"
      ]
     },
     "execution_count": 116,
     "metadata": {},
     "output_type": "execute_result"
    }
   ],
   "source": [
    "new_dfs[0].shape"
   ]
  }
 ],
 "metadata": {
  "kernelspec": {
   "display_name": "base",
   "language": "python",
   "name": "python3"
  },
  "language_info": {
   "codemirror_mode": {
    "name": "ipython",
    "version": 3
   },
   "file_extension": ".py",
   "mimetype": "text/x-python",
   "name": "python",
   "nbconvert_exporter": "python",
   "pygments_lexer": "ipython3",
   "version": "3.12.4"
  }
 },
 "nbformat": 4,
 "nbformat_minor": 2
}
